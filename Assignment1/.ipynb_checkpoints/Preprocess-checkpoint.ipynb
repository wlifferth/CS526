{
 "cells": [
  {
   "cell_type": "code",
   "execution_count": 31,
   "metadata": {
    "collapsed": true
   },
   "outputs": [],
   "source": [
    "from bs4 import BeautifulSoup\n",
    "import os\n",
    "import pandas as pd"
   ]
  },
  {
   "cell_type": "code",
   "execution_count": 3,
   "metadata": {
    "collapsed": true
   },
   "outputs": [],
   "source": [
    "file = open(\"reuters21578/reut2-000.sgm\")\n",
    "content = file.read()\n",
    "header = len(\"<?xml version=\\\"1.0\\\" encoding=\\\"utf-8\\\"?>\")\n",
    "# print(content[36:1000])\n",
    "content = content[:36] + \"<ABSROOT>\" + content[36:] + \"</ABSROOT>\"\n",
    "soup = BeautifulSoup(content, \"xml\")"
   ]
  },
  {
   "cell_type": "code",
   "execution_count": 30,
   "metadata": {},
   "outputs": [
    {
     "name": "stdout",
     "output_type": "stream",
     "text": [
      "all-exchanges-strings.lc.txt\n",
      "all-orgs-strings.lc.txt\n",
      "all-people-strings.lc.txt\n",
      "all-places-strings.lc.txt\n",
      "all-topics-strings.lc.txt\n",
      "cat-descriptions_120396.txt\n",
      "feldman-cia-worldfactbook-data.txt\n",
      "lewis.dtd\n",
      "README.txt\n",
      "reut2-000.sgm\n",
      "reut2-001.sgm\n",
      "reut2-002.sgm\n",
      "reut2-003.sgm\n",
      "reut2-004.sgm\n",
      "reut2-005.sgm\n",
      "reut2-006.sgm\n",
      "reut2-007.sgm\n",
      "reut2-008.sgm\n",
      "reut2-009.sgm\n",
      "reut2-010.sgm\n",
      "reut2-011.sgm\n",
      "reut2-012.sgm\n",
      "reut2-013.sgm\n",
      "reut2-014.sgm\n",
      "reut2-015.sgm\n",
      "reut2-016.sgm\n",
      "reut2-017.sgm\n",
      "reut2-018.sgm\n",
      "reut2-019.sgm\n",
      "reut2-020.sgm\n",
      "reut2-021.sgm\n",
      "17520\n",
      "17520\n"
     ]
    }
   ],
   "source": [
    "article_objects = soup.find_all('REUTERS')\n",
    "# print(article_objects[0])\n",
    "body = []\n",
    "topic = []\n",
    "dir_name = 'reuters21578'\n",
    "for fn in os.listdir(dir_name):\n",
    "    print(fn)\n",
    "    if fn[:5] == 'reut2':\n",
    "        try:\n",
    "            file = open(dir_name + '/' + fn)\n",
    "            content = file.read()\n",
    "            content = content[:36] + \"<ABSROOT>\" + content[36:] + \"</ABSROOT>\"\n",
    "            soup = BeautifulSoup(content, \"xml\")\n",
    "            article_objects = soup.find_all('REUTERS')\n",
    "            for a in article_objects:\n",
    "                try:\n",
    "                    b = a.find_all('BODY')\n",
    "                    t = a.find_all('D')\n",
    "                    if len(b) >= 1 and len(t) >= 1:\n",
    "                        body.append(b[0].get_text())\n",
    "                        topic.append(t[0].get_text())\n",
    "                except:\n",
    "                    pass\n",
    "        except:\n",
    "            pass\n",
    "print(len(body))\n",
    "print(len(topic))"
   ]
  },
  {
   "cell_type": "code",
   "execution_count": 32,
   "metadata": {},
   "outputs": [],
   "source": [
    "df = pd.DataFrame()"
   ]
  },
  {
   "cell_type": "code",
   "execution_count": 33,
   "metadata": {
    "collapsed": true
   },
   "outputs": [],
   "source": [
    "df['topic'] = topic\n",
    "df['body'] = body"
   ]
  },
  {
   "cell_type": "code",
   "execution_count": 34,
   "metadata": {},
   "outputs": [
    {
     "data": {
      "text/html": [
       "<div>\n",
       "<style>\n",
       "    .dataframe thead tr:only-child th {\n",
       "        text-align: right;\n",
       "    }\n",
       "\n",
       "    .dataframe thead th {\n",
       "        text-align: left;\n",
       "    }\n",
       "\n",
       "    .dataframe tbody tr th {\n",
       "        vertical-align: top;\n",
       "    }\n",
       "</style>\n",
       "<table border=\"1\" class=\"dataframe\">\n",
       "  <thead>\n",
       "    <tr style=\"text-align: right;\">\n",
       "      <th></th>\n",
       "      <th>topic</th>\n",
       "      <th>body</th>\n",
       "    </tr>\n",
       "  </thead>\n",
       "  <tbody>\n",
       "    <tr>\n",
       "      <th>0</th>\n",
       "      <td>cocoa</td>\n",
       "      <td>Showers continued throughout the week in\\nthe ...</td>\n",
       "    </tr>\n",
       "    <tr>\n",
       "      <th>1</th>\n",
       "      <td>usa</td>\n",
       "      <td>Standard Oil Co and BP North America\\nInc said...</td>\n",
       "    </tr>\n",
       "    <tr>\n",
       "      <th>2</th>\n",
       "      <td>usa</td>\n",
       "      <td>Texas Commerce Bancshares Inc's Texas\\nCommerc...</td>\n",
       "    </tr>\n",
       "    <tr>\n",
       "      <th>3</th>\n",
       "      <td>usa</td>\n",
       "      <td>BankAmerica Corp is not under\\npressure to act...</td>\n",
       "    </tr>\n",
       "    <tr>\n",
       "      <th>4</th>\n",
       "      <td>grain</td>\n",
       "      <td>The U.S. Agriculture Department\\nreported the ...</td>\n",
       "    </tr>\n",
       "  </tbody>\n",
       "</table>\n",
       "</div>"
      ],
      "text/plain": [
       "   topic                                               body\n",
       "0  cocoa  Showers continued throughout the week in\\nthe ...\n",
       "1    usa  Standard Oil Co and BP North America\\nInc said...\n",
       "2    usa  Texas Commerce Bancshares Inc's Texas\\nCommerc...\n",
       "3    usa  BankAmerica Corp is not under\\npressure to act...\n",
       "4  grain  The U.S. Agriculture Department\\nreported the ..."
      ]
     },
     "execution_count": 34,
     "metadata": {},
     "output_type": "execute_result"
    }
   ],
   "source": [
    "df.head()"
   ]
  },
  {
   "cell_type": "code",
   "execution_count": 35,
   "metadata": {
    "collapsed": true
   },
   "outputs": [],
   "source": [
    "df.to_csv('data.csv')"
   ]
  },
  {
   "cell_type": "code",
   "execution_count": null,
   "metadata": {
    "collapsed": true
   },
   "outputs": [],
   "source": []
  }
 ],
 "metadata": {
  "kernelspec": {
   "display_name": "Python [conda root]",
   "language": "python",
   "name": "conda-root-py"
  },
  "language_info": {
   "codemirror_mode": {
    "name": "ipython",
    "version": 3
   },
   "file_extension": ".py",
   "mimetype": "text/x-python",
   "name": "python",
   "nbconvert_exporter": "python",
   "pygments_lexer": "ipython3",
   "version": "3.5.2"
  }
 },
 "nbformat": 4,
 "nbformat_minor": 2
}
