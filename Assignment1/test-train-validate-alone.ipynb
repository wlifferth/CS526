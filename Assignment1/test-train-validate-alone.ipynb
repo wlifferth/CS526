{
 "cells": [
  {
   "cell_type": "code",
   "execution_count": 2,
   "metadata": {},
   "outputs": [],
   "source": [
    "results = [\n",
    "    [\n",
    "        0.7044989775051125,\n",
    "        0.7125748502994012,\n",
    "        0.7287128712871287,\n",
    "        0.7038883349950149,\n",
    "        0.7112195121951219,\n",
    "    ],\n",
    "    [\n",
    "        0.7128335451080051,\n",
    "        0.7289073305670816,\n",
    "        0.7069645203679369,\n",
    "        0.7032085561497327,\n",
    "        0.7045751633986929,\n",
    "    ],\n",
    "    [\n",
    "        0.7494949494949495,\n",
    "        0.7248995983935743,\n",
    "        0.7125984251968503,\n",
    "        0.717434869739479,\n",
    "        0.7282157676348547,\n",
    "    ]\n",
    "]\n",
    "    "
   ]
  },
  {
   "cell_type": "code",
   "execution_count": null,
   "metadata": {
    "collapsed": true
   },
   "outputs": [],
   "source": []
  }
 ],
 "metadata": {
  "kernelspec": {
   "display_name": "Python [conda root]",
   "language": "python",
   "name": "conda-root-py"
  },
  "language_info": {
   "codemirror_mode": {
    "name": "ipython",
    "version": 3
   },
   "file_extension": ".py",
   "mimetype": "text/x-python",
   "name": "python",
   "nbconvert_exporter": "python",
   "pygments_lexer": "ipython3",
   "version": "3.5.2"
  }
 },
 "nbformat": 4,
 "nbformat_minor": 2
}
