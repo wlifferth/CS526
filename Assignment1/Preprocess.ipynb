{
 "cells": [
  {
   "cell_type": "code",
   "execution_count": 31,
   "metadata": {
    "collapsed": true
   },
   "outputs": [],
   "source": [
    "from bs4 import BeautifulSoup\n",
    "import os\n",
    "import pandas as pd"
   ]
  },
  {
   "cell_type": "code",
   "execution_count": 3,
   "metadata": {
    "collapsed": true
   },
   "outputs": [],
   "source": [
    "file = open(\"reuters21578/reut2-000.sgm\")\n",
    "content = file.read()\n",
    "header = len(\"<?xml version=\\\"1.0\\\" encoding=\\\"utf-8\\\"?>\")\n",
    "# print(content[36:1000])\n",
    "content = content[:36] + \"<ABSROOT>\" + content[36:] + \"</ABSROOT>\"\n",
    "soup = BeautifulSoup(content, \"xml\")"
   ]
  },
  {
   "cell_type": "code",
   "execution_count": 40,
   "metadata": {},
   "outputs": [
    {
     "name": "stdout",
     "output_type": "stream",
     "text": [
      "all-exchanges-strings.lc.txt\n",
      "all-orgs-strings.lc.txt\n",
      "all-people-strings.lc.txt\n",
      "all-places-strings.lc.txt\n",
      "all-topics-strings.lc.txt\n",
      "cat-descriptions_120396.txt\n",
      "feldman-cia-worldfactbook-data.txt\n",
      "lewis.dtd\n",
      "README.txt\n",
      "reut2-000.sgm\n",
      "reut2-001.sgm\n",
      "reut2-002.sgm\n",
      "reut2-003.sgm\n",
      "reut2-004.sgm\n",
      "reut2-005.sgm\n",
      "reut2-006.sgm\n",
      "reut2-007.sgm\n",
      "reut2-008.sgm\n",
      "reut2-009.sgm\n",
      "reut2-010.sgm\n",
      "reut2-011.sgm\n",
      "reut2-012.sgm\n",
      "reut2-013.sgm\n",
      "reut2-014.sgm\n",
      "reut2-015.sgm\n",
      "reut2-016.sgm\n",
      "reut2-017.sgm\n",
      "reut2-018.sgm\n",
      "reut2-019.sgm\n",
      "reut2-020.sgm\n",
      "reut2-021.sgm\n",
      "17520\n",
      "17520\n"
     ]
    }
   ],
   "source": [
    "article_objects = soup.find_all('REUTERS')\n",
    "# print(article_objects[0])\n",
    "body = []\n",
    "topic = []\n",
    "dir_name = 'reuters21578'\n",
    "for fn in os.listdir(dir_name):\n",
    "    print(fn)\n",
    "    if fn[:5] == 'reut2':\n",
    "        try:\n",
    "            file = open(dir_name + '/' + fn)\n",
    "            content = file.read()\n",
    "            content = content[:36] + \"<ABSROOT>\" + content[36:] + \"</ABSROOT>\"\n",
    "            soup = BeautifulSoup(content, \"xml\")\n",
    "            article_objects = soup.find_all('REUTERS')\n",
    "            for a in article_objects:\n",
    "                try:\n",
    "                    b = a.find_all('BODY')\n",
    "                    t = a.find_all('D')\n",
    "                    if len(b) >= 1 and len(t) >= 1:\n",
    "                        body.append(b[0].get_text().replace('\\n', ' '))\n",
    "                        topic.append(t[0].get_text())\n",
    "                except:\n",
    "                    pass\n",
    "        except:\n",
    "            pass\n",
    "print(len(body))\n",
    "print(len(topic))"
   ]
  },
  {
   "cell_type": "code",
   "execution_count": 41,
   "metadata": {
    "collapsed": true
   },
   "outputs": [],
   "source": [
    "df = pd.DataFrame()"
   ]
  },
  {
   "cell_type": "code",
   "execution_count": 42,
   "metadata": {
    "collapsed": true
   },
   "outputs": [],
   "source": [
    "df['topic'] = topic\n",
    "df['body'] = body"
   ]
  },
  {
   "cell_type": "code",
   "execution_count": 43,
   "metadata": {},
   "outputs": [
    {
     "data": {
      "text/html": [
       "<div>\n",
       "<style>\n",
       "    .dataframe thead tr:only-child th {\n",
       "        text-align: right;\n",
       "    }\n",
       "\n",
       "    .dataframe thead th {\n",
       "        text-align: left;\n",
       "    }\n",
       "\n",
       "    .dataframe tbody tr th {\n",
       "        vertical-align: top;\n",
       "    }\n",
       "</style>\n",
       "<table border=\"1\" class=\"dataframe\">\n",
       "  <thead>\n",
       "    <tr style=\"text-align: right;\">\n",
       "      <th></th>\n",
       "      <th>topic</th>\n",
       "      <th>body</th>\n",
       "    </tr>\n",
       "  </thead>\n",
       "  <tbody>\n",
       "    <tr>\n",
       "      <th>0</th>\n",
       "      <td>cocoa</td>\n",
       "      <td>Showers continued throughout the week in the B...</td>\n",
       "    </tr>\n",
       "    <tr>\n",
       "      <th>1</th>\n",
       "      <td>usa</td>\n",
       "      <td>Standard Oil Co and BP North America Inc said ...</td>\n",
       "    </tr>\n",
       "    <tr>\n",
       "      <th>2</th>\n",
       "      <td>usa</td>\n",
       "      <td>Texas Commerce Bancshares Inc's Texas Commerce...</td>\n",
       "    </tr>\n",
       "    <tr>\n",
       "      <th>3</th>\n",
       "      <td>usa</td>\n",
       "      <td>BankAmerica Corp is not under pressure to act ...</td>\n",
       "    </tr>\n",
       "    <tr>\n",
       "      <th>4</th>\n",
       "      <td>grain</td>\n",
       "      <td>The U.S. Agriculture Department reported the f...</td>\n",
       "    </tr>\n",
       "  </tbody>\n",
       "</table>\n",
       "</div>"
      ],
      "text/plain": [
       "   topic                                               body\n",
       "0  cocoa  Showers continued throughout the week in the B...\n",
       "1    usa  Standard Oil Co and BP North America Inc said ...\n",
       "2    usa  Texas Commerce Bancshares Inc's Texas Commerce...\n",
       "3    usa  BankAmerica Corp is not under pressure to act ...\n",
       "4  grain  The U.S. Agriculture Department reported the f..."
      ]
     },
     "execution_count": 43,
     "metadata": {},
     "output_type": "execute_result"
    }
   ],
   "source": [
    "df.head()"
   ]
  },
  {
   "cell_type": "code",
   "execution_count": 44,
   "metadata": {},
   "outputs": [],
   "source": [
    "topics_of_interest = [\n",
    "    'money',\n",
    "    'fx',\n",
    "    'crude',\n",
    "    'grain',\n",
    "    'trade',\n",
    "    'interest',\n",
    "    'wheat',\n",
    "    'ship',\n",
    "    'corn',\n",
    "    'oil',\n",
    "    'dlr',\n",
    "    'gas',\n",
    "    'oilseed',\n",
    "    'supply',\n",
    "    'sugar',\n",
    "    'gnp',\n",
    "    'coffee',\n",
    "    'veg',\n",
    "    'gold',\n",
    "    'soybean',\n",
    "    'bop',\n",
    "    'livestock',\n",
    "    'cpi'\n",
    "]\n",
    "df = df[df['topic'].isin(topics_of_interest)]"
   ]
  },
  {
   "cell_type": "code",
   "execution_count": 45,
   "metadata": {},
   "outputs": [
    {
     "data": {
      "text/html": [
       "<div>\n",
       "<style>\n",
       "    .dataframe thead tr:only-child th {\n",
       "        text-align: right;\n",
       "    }\n",
       "\n",
       "    .dataframe thead th {\n",
       "        text-align: left;\n",
       "    }\n",
       "\n",
       "    .dataframe tbody tr th {\n",
       "        vertical-align: top;\n",
       "    }\n",
       "</style>\n",
       "<table border=\"1\" class=\"dataframe\">\n",
       "  <thead>\n",
       "    <tr style=\"text-align: right;\">\n",
       "      <th></th>\n",
       "      <th>topic</th>\n",
       "      <th>body</th>\n",
       "    </tr>\n",
       "  </thead>\n",
       "  <tbody>\n",
       "    <tr>\n",
       "      <th>4</th>\n",
       "      <td>grain</td>\n",
       "      <td>The U.S. Agriculture Department reported the f...</td>\n",
       "    </tr>\n",
       "    <tr>\n",
       "      <th>18</th>\n",
       "      <td>wheat</td>\n",
       "      <td>The Commodity Credit Corporation, CCC, has acc...</td>\n",
       "    </tr>\n",
       "    <tr>\n",
       "      <th>39</th>\n",
       "      <td>coffee</td>\n",
       "      <td>International Coffee Organization, ICO, produc...</td>\n",
       "    </tr>\n",
       "    <tr>\n",
       "      <th>43</th>\n",
       "      <td>sugar</td>\n",
       "      <td>Sugar imports subject to the U.S. sugar import...</td>\n",
       "    </tr>\n",
       "    <tr>\n",
       "      <th>44</th>\n",
       "      <td>trade</td>\n",
       "      <td>inflation plan, initially hailed at home and a...</td>\n",
       "    </tr>\n",
       "  </tbody>\n",
       "</table>\n",
       "</div>"
      ],
      "text/plain": [
       "     topic                                               body\n",
       "4    grain  The U.S. Agriculture Department reported the f...\n",
       "18   wheat  The Commodity Credit Corporation, CCC, has acc...\n",
       "39  coffee  International Coffee Organization, ICO, produc...\n",
       "43   sugar  Sugar imports subject to the U.S. sugar import...\n",
       "44   trade  inflation plan, initially hailed at home and a..."
      ]
     },
     "execution_count": 45,
     "metadata": {},
     "output_type": "execute_result"
    }
   ],
   "source": [
    "df.head()"
   ]
  },
  {
   "cell_type": "code",
   "execution_count": 47,
   "metadata": {
    "collapsed": true
   },
   "outputs": [],
   "source": [
    "df.to_csv('data.csv', index=False)"
   ]
  },
  {
   "cell_type": "code",
   "execution_count": null,
   "metadata": {
    "collapsed": true
   },
   "outputs": [],
   "source": []
  }
 ],
 "metadata": {
  "kernelspec": {
   "display_name": "Python [conda root]",
   "language": "python",
   "name": "conda-root-py"
  },
  "language_info": {
   "codemirror_mode": {
    "name": "ipython",
    "version": 3
   },
   "file_extension": ".py",
   "mimetype": "text/x-python",
   "name": "python",
   "nbconvert_exporter": "python",
   "pygments_lexer": "ipython3",
   "version": "3.5.2"
  }
 },
 "nbformat": 4,
 "nbformat_minor": 2
}
